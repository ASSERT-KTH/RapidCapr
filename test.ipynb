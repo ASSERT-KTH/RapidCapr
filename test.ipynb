{
 "cells": [
  {
   "cell_type": "code",
   "execution_count": 16,
   "metadata": {},
   "outputs": [],
   "source": [
    "response = \"Alternative fix line:\\n```java\\nif (Double.isNaN(value) || Double.isInfinite(value)) {\\n```\""
   ]
  },
  {
   "cell_type": "code",
   "execution_count": 35,
   "metadata": {},
   "outputs": [],
   "source": [
    "def extract_patch_from_response(response):\n",
    "\n",
    "    if \"```java\" in response:\n",
    "        patch = response[response.find(\"```java\")+len(\"```java\")+1:]\n",
    "        patch = patch[:patch.find(\"```\")]\n",
    "        if \"\\n\" in patch:\n",
    "            patch = patch.split(\"\\n\")[0]\n",
    "    elif \"\\n\\n\" in response:\n",
    "        patch = response.split(\"\\n\\n\")[1].split(\"\\n\")[0]\n",
    "    else:\n",
    "        patch = response\n",
    "\n",
    "    return patch"
   ]
  },
  {
   "cell_type": "code",
   "execution_count": 36,
   "metadata": {},
   "outputs": [
    {
     "name": "stdout",
     "output_type": "stream",
     "text": [
      "if (Double.isNaN(value) || Double.isInfinite(value)) {\n"
     ]
    }
   ],
   "source": [
    "patch = extract_patch_from_response(response)\n",
    "print(patch)"
   ]
  },
  {
   "cell_type": "code",
   "execution_count": null,
   "metadata": {},
   "outputs": [],
   "source": []
  }
 ],
 "metadata": {
  "kernelspec": {
   "display_name": "venv",
   "language": "python",
   "name": "python3"
  },
  "language_info": {
   "codemirror_mode": {
    "name": "ipython",
    "version": 3
   },
   "file_extension": ".py",
   "mimetype": "text/x-python",
   "name": "python",
   "nbconvert_exporter": "python",
   "pygments_lexer": "ipython3",
   "version": "3.9.16"
  },
  "orig_nbformat": 4
 },
 "nbformat": 4,
 "nbformat_minor": 2
}
