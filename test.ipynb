{
 "cells": [
  {
   "cell_type": "code",
   "execution_count": 44,
   "metadata": {},
   "outputs": [],
   "source": [
    "response=\"\"\"This line should fix the bug:\n",
    "```java\n",
    "System.out.println(\"Hello World!\");\n",
    "```\n",
    "\"\"\"\n",
    "\n",
    "response = \"\"\"```java\n",
    "asd\n",
    "daefw\n",
    "```\"\"\""
   ]
  },
  {
   "cell_type": "code",
   "execution_count": 45,
   "metadata": {},
   "outputs": [
    {
     "name": "stdout",
     "output_type": "stream",
     "text": [
      "asd\n",
      "d\n"
     ]
    }
   ],
   "source": [
    "if \"```java\" in response:\n",
    "    response = response[response.find(\"```java\")+len(\"```java\")+1:response.find(\"```\")-len(\"```\")-1]\n",
    "print(response)"
   ]
  },
  {
   "cell_type": "code",
   "execution_count": 1,
   "metadata": {},
   "outputs": [
    {
     "name": "stdout",
     "output_type": "stream",
     "text": [
      "if (Double.isNaN(value) || Double.isInfinite(value)) {\n",
      "      throw new IllegalArgumentException(\"Numeric values must be finite, but was \" + value);\n",
      "}\n"
     ]
    }
   ],
   "source": [
    "response = \"if (Double.isNaN(value) || Double.isInfinite(value)) {\\n      throw new IllegalArgumentException(\\\"Numeric values must be finite, but was \\\" + value);\\n}\"\n",
    "print(response)"
   ]
  },
  {
   "cell_type": "code",
   "execution_count": null,
   "metadata": {},
   "outputs": [],
   "source": []
  }
 ],
 "metadata": {
  "kernelspec": {
   "display_name": "venv",
   "language": "python",
   "name": "python3"
  },
  "language_info": {
   "codemirror_mode": {
    "name": "ipython",
    "version": 3
   },
   "file_extension": ".py",
   "mimetype": "text/x-python",
   "name": "python",
   "nbconvert_exporter": "python",
   "pygments_lexer": "ipython3",
   "version": "3.9.16"
  },
  "orig_nbformat": 4
 },
 "nbformat": 4,
 "nbformat_minor": 2
}
