{
 "cells": [
  {
   "cell_type": "code",
   "execution_count": 31,
   "metadata": {},
   "outputs": [],
   "source": [
    "response = 'Apologies for the confusion. Here\\'s the correct patch line:\\n\\n```java\\nif (!lenient && (Double.isNaN(value) || Double.isInfinite(value))) {\\n    throw new IllegalArgumentException(\"Numeric values must be finite, but was \" + value);\\n}\\n``` \\n\\nThis line includes a check for the `lenient` flag, which is missing in the previous version. If `lenient` is set to true, non-finite doubles will be allowed. Otherwise, an exception will be thrown.'"
   ]
  },
  {
   "cell_type": "code",
   "execution_count": 32,
   "metadata": {},
   "outputs": [],
   "source": [
    "def extract_patch_from_response(response):\n",
    "\n",
    "    if \"```java\" in response:\n",
    "        patch = response[response.find(\"```java\")+len(\"```java\")+1:]\n",
    "        patch = patch[:patch.find(\"```\")-len(\"```\")-1]\n",
    "        if \"\\n\" in patch:\n",
    "            print(\"asdadasd\")\n",
    "            patch = patch.split(\"\\n\")[0]\n",
    "    elif \"\\n\\n\" in response:\n",
    "        patch = response.split(\"\\n\\n\")[1].split(\"\\n\")[0]\n",
    "    else:\n",
    "        patch = response\n",
    "\n",
    "    return patch"
   ]
  },
  {
   "cell_type": "code",
   "execution_count": 33,
   "metadata": {},
   "outputs": [
    {
     "name": "stdout",
     "output_type": "stream",
     "text": [
      "asdadasd\n",
      "if (!lenient && (Double.isNaN(value) || Double.isInfinite(value))) {\n"
     ]
    }
   ],
   "source": [
    "patch = extract_patch_from_response(response)\n",
    "print(patch)"
   ]
  },
  {
   "cell_type": "code",
   "execution_count": 1,
   "metadata": {},
   "outputs": [],
   "source": [
    "pp = [\"AAAAAAAAA\", \"BBBBBBBB\"]"
   ]
  },
  {
   "cell_type": "code",
   "execution_count": 2,
   "metadata": {},
   "outputs": [
    {
     "name": "stdout",
     "output_type": "stream",
     "text": [
      "0 AAAAAAAAA\n",
      "1 BBBBBBBB\n"
     ]
    }
   ],
   "source": [
    "for i, p in enumerate(pp):\n",
    "    print(i, p)"
   ]
  },
  {
   "cell_type": "code",
   "execution_count": null,
   "metadata": {},
   "outputs": [],
   "source": []
  }
 ],
 "metadata": {
  "kernelspec": {
   "display_name": "venv",
   "language": "python",
   "name": "python3"
  },
  "language_info": {
   "codemirror_mode": {
    "name": "ipython",
    "version": 3
   },
   "file_extension": ".py",
   "mimetype": "text/x-python",
   "name": "python",
   "nbconvert_exporter": "python",
   "pygments_lexer": "ipython3",
   "version": "3.9.16"
  },
  "orig_nbformat": 4
 },
 "nbformat": 4,
 "nbformat_minor": 2
}
